{
 "cells": [
  {
   "cell_type": "markdown",
   "id": "dd5b1293-1e2a-4239-b950-252ac2b644e2",
   "metadata": {},
   "source": [
    "# Downloading then processing LiDAR data\n",
    "In this notebook we will:\n",
    "* Go through the process of downloading LiDAR data from OpenTopography using their APIs\n",
    "* Do some basic processing on the downloaded LiDAR using PDAL"
   ]
  },
  {
   "cell_type": "code",
   "execution_count": null,
   "id": "73eb5a27-226f-4cca-9f9d-3c6059d139b7",
   "metadata": {},
   "outputs": [],
   "source": [
    "import urllib\n",
    "import pathlib\n",
    "import requests\n",
    "import boto3\n",
    "import botocore\n",
    "import botocore.client\n",
    "import geopandas\n",
    "import shapely\n",
    "import pdal\n",
    "import json\n",
    "import rioxarray\n",
    "import matplotlib\n",
    "import matplotlib.pyplot"
   ]
  },
  {
   "cell_type": "markdown",
   "id": "144c1716-310c-4831-9fe3-b12eb8dc9b4e",
   "metadata": {},
   "source": [
    "# Downloading LiDAR data\n",
    "We will be using the OpenTopography APIs where we can and downloading LiDAR within an area of interest.\n",
    "\n",
    "1. Define region of interest\n",
    "2. Download tile map\n",
    "3. Select tiles to download (selection within boundary)\n",
    "4. Download tiles"
   ]
  },
  {
   "cell_type": "markdown",
   "id": "343530e4-1242-47aa-925d-f7704fff43f6",
   "metadata": {},
   "source": [
    "## 1. Create region of interest"
   ]
  },
  {
   "cell_type": "code",
   "execution_count": null,
   "id": "dad88eeb-2476-4e7c-9b6f-e2f58ad9dbfd",
   "metadata": {},
   "outputs": [],
   "source": [
    "horizontal_crs = 2193 # NZTM2000 - EPSG:2193\n",
    "vertical_crs = 7839 # NZVD2016 - EPSG:7839\n",
    "x0 = 1765000; y0 = 5460000; x1 = 1765400; y1 = 5460500\n",
    "boundary = shapely.geometry.Polygon([(x0, y0), (x1, y0), (x1, y1), (x0, y1)])\n",
    "boundary = geopandas.GeoDataFrame(geometry=[boundary], crs=horizontal_crs)\n",
    "boundary.to_file(pathlib.Path().cwd() / \"boundary.geojson\")"
   ]
  },
  {
   "cell_type": "code",
   "execution_count": null,
   "id": "df4511c7-26aa-46da-ab73-35371de537fb",
   "metadata": {},
   "outputs": [],
   "source": [
    "#boundary.plot()"
   ]
  },
  {
   "cell_type": "markdown",
   "id": "164b8bb8-faa3-4483-943e-bd1b406b058e",
   "metadata": {},
   "source": [
    "## 2. Download tile map\n",
    "* Use OpenTopography 'otCatalog' API to search for datasets within ROI\n",
    "* Select one and download tilemap within the boundary\n",
    "* Get tiles within ROI\n",
    "* Download the tiles within the RIO\n",
    "### Use OpenTopography 'otCatalog' API to search for datasets within ROI"
   ]
  },
  {
   "cell_type": "code",
   "execution_count": null,
   "id": "75b12f35-df7e-4387-b481-0755cad304ea",
   "metadata": {},
   "outputs": [],
   "source": [
    "OT_CRS = \"EPSG:4326\"\n",
    "SCHEME = \"https\"\n",
    "NETLOC_API = \"portal.opentopography.org\"\n",
    "PATH_API = \"/API/otCatalog\""
   ]
  },
  {
   "cell_type": "code",
   "execution_count": null,
   "id": "e6ae9f1a-1719-4c45-b5fc-b3abd412161c",
   "metadata": {},
   "outputs": [],
   "source": [
    "bounds = boundary.geometry.to_crs(OT_CRS).bounds\n",
    "api_query = {\n",
    "    \"productFormat\": \"PointCloud\",\n",
    "    \"minx\": bounds['minx'].min(), \"miny\": bounds['miny'].min(), \"maxx\": bounds['maxx'].max(), \"maxy\": bounds['maxy'].max(),\n",
    "    \"detail\": False, \"outputFormat\": \"json\", \"inlcude_federated\": True\n",
    "}\n",
    "\n",
    "data_url = urllib.parse.urlunparse((SCHEME, NETLOC_API, PATH_API, \"\", \"\", \"\"))\n",
    "\n",
    "response = requests.get(data_url, params=api_query, stream=True)\n",
    "response.raise_for_status()\n",
    "json_response = response.json()"
   ]
  },
  {
   "cell_type": "code",
   "execution_count": null,
   "id": "ad943ebb-f3f7-4c40-93b7-39c5a93c8c83",
   "metadata": {},
   "outputs": [],
   "source": [
    "#json_response"
   ]
  },
  {
   "cell_type": "code",
   "execution_count": null,
   "id": "d30764b4-1ff7-4ece-993e-354abbbdf01e",
   "metadata": {},
   "outputs": [],
   "source": [
    "for dataset in json_response['Datasets']:\n",
    "    print(f\"dataset name: {dataset['Dataset']['name']}, alternateName: {dataset['Dataset']['alternateName']}\")"
   ]
  },
  {
   "cell_type": "markdown",
   "id": "12d2e756-40e7-466c-8e71-d38de9698b6c",
   "metadata": {},
   "source": [
    "### Select one and download tilemap within the boundary\n",
    "Hardcode AWS location and create client"
   ]
  },
  {
   "cell_type": "code",
   "execution_count": null,
   "id": "d7003e85-8503-4db0-9ced-63dc25a0739a",
   "metadata": {},
   "outputs": [],
   "source": [
    "NETLOC_DATA = \"opentopography.s3.sdsc.edu\"\n",
    "OT_BUCKET = \"pc-bulk\"\n",
    "\n",
    "PATH_DATA = \"/minio/pc-bulk/\""
   ]
  },
  {
   "cell_type": "code",
   "execution_count": null,
   "id": "22385dab-b18e-4f61-8d5c-30f5a399215c",
   "metadata": {},
   "outputs": [],
   "source": [
    "ot_endpoint_url = urllib.parse.urlunparse((SCHEME, NETLOC_DATA, \"\", \"\", \"\", \"\"))\n",
    "client = boto3.client('s3', endpoint_url=ot_endpoint_url, config=botocore.config.Config(signature_version=botocore.UNSIGNED))"
   ]
  },
  {
   "cell_type": "markdown",
   "id": "e07adcce-3f54-4164-b9c1-436cd30e1f58",
   "metadata": {},
   "source": [
    "Select dataset to download, and download"
   ]
  },
  {
   "cell_type": "code",
   "execution_count": null,
   "id": "82e68e6f-8d4d-4095-8dd5-d4ef6e42ef70",
   "metadata": {},
   "outputs": [],
   "source": [
    "dataset_prefix = json_response['Datasets'][0]['Dataset']['alternateName']\n",
    "file_prefix = f\"{dataset_prefix}/{dataset_prefix}_TileIndex.zip\"\n",
    "\n",
    "local_file_path = pathlib.Path().cwd() / dataset_prefix\n",
    "local_tile_file = pathlib.Path().cwd() / file_prefix\n",
    "local_file_path.mkdir(parents=True, exist_ok=True)\n",
    "\n",
    "client.download_file(OT_BUCKET, file_prefix, str(local_tile_file))"
   ]
  },
  {
   "cell_type": "markdown",
   "id": "85196955-04d1-481e-aa65-2e538e58d724",
   "metadata": {},
   "source": [
    "### Get tiles within ROI\n",
    "Open tile file and trim to the boundary"
   ]
  },
  {
   "cell_type": "code",
   "execution_count": null,
   "id": "bd3e1a1f-8891-44fb-8c52-adeec184e3ca",
   "metadata": {},
   "outputs": [],
   "source": [
    "tile_info = geopandas.read_file(local_tile_file)\n",
    "tile_info = tile_info.to_crs(boundary.crs)"
   ]
  },
  {
   "cell_type": "code",
   "execution_count": null,
   "id": "c8a52000-de53-45a0-9f08-cab01a0a9a45",
   "metadata": {},
   "outputs": [],
   "source": [
    "#tile_info"
   ]
  },
  {
   "cell_type": "code",
   "execution_count": null,
   "id": "68a5e5a0-3e88-487f-b8bb-8600c65191a9",
   "metadata": {},
   "outputs": [],
   "source": [
    "tile_info = geopandas.sjoin(tile_info, boundary)\n",
    "tile_info = tile_info.reset_index(drop=True)"
   ]
  },
  {
   "cell_type": "code",
   "execution_count": null,
   "id": "9202d1a5-6360-4e36-957a-e9e7c6546660",
   "metadata": {},
   "outputs": [],
   "source": [
    "tile_info"
   ]
  },
  {
   "cell_type": "markdown",
   "id": "6d3504fe-6e02-4b7a-9d3a-439772114b7b",
   "metadata": {},
   "source": [
    "### Download the tiles within the RIO"
   ]
  },
  {
   "cell_type": "code",
   "execution_count": null,
   "id": "34da0769-3278-49cb-9956-aae7f679f03c",
   "metadata": {},
   "outputs": [],
   "source": [
    "for url in tile_info['URL']:\n",
    "    # drop the OT_BUCKET from the URL path to get the file_prefix\n",
    "    file_prefix = pathlib.Path(*pathlib.Path(urllib.parse.urlparse(url).path).parts[2:])\n",
    "    \n",
    "    print(f\"Downloading file: {file_prefix}\")\n",
    "    try:\n",
    "        client.download_file(OT_BUCKET, str(file_prefix.as_posix()), str(local_file_path / file_prefix.name))\n",
    "    except botocore.exceptions.ClientError as e:\n",
    "        f\"An error occured when trying to download {file_prefix}. The error is {e}\""
   ]
  },
  {
   "cell_type": "markdown",
   "id": "5a6dd623-558a-4763-8137-4ee7aa2cff62",
   "metadata": {},
   "source": [
    "# Processing LiDAR with PDAL\n",
    "We will use PDAL to:\n",
    "* Load in a LiDAR tile\n",
    "* Reproject to CRS\n",
    "* Filter within the ROI\n",
    "* Produce a DEM\n",
    "\n",
    "By constructing then running a PDAL pipeline"
   ]
  },
  {
   "cell_type": "code",
   "execution_count": null,
   "id": "6098ac7e-dd91-4f6a-8cb4-b788ef4e7071",
   "metadata": {},
   "outputs": [],
   "source": [
    "lidar_file = str(local_file_path / file_prefix.name)"
   ]
  },
  {
   "cell_type": "code",
   "execution_count": null,
   "id": "7b8ba0ab-7738-4d7e-9522-d14a564243cf",
   "metadata": {},
   "outputs": [],
   "source": [
    "lidar_file"
   ]
  },
  {
   "cell_type": "markdown",
   "id": "1c372704-525b-4443-84f4-05612b90f5fa",
   "metadata": {},
   "source": [
    "### Pipeline instruction: Load in a LiDAR tile"
   ]
  },
  {
   "cell_type": "code",
   "execution_count": null,
   "id": "bb751bb1-bea4-49f7-9b72-cbf7079c0f00",
   "metadata": {},
   "outputs": [],
   "source": [
    "pdal_pipeline_instructions = [{\"type\":  \"readers.las\", \"filename\": str(lidar_file)}]"
   ]
  },
  {
   "cell_type": "markdown",
   "id": "88242279-b619-4e25-8c0c-62d16bbb06e3",
   "metadata": {},
   "source": [
    "### Pipeline instruction: Reproject to CRS"
   ]
  },
  {
   "cell_type": "code",
   "execution_count": null,
   "id": "ae77d02a-6945-4dbb-9c14-7e31b2599ca6",
   "metadata": {},
   "outputs": [],
   "source": [
    "pdal_pipeline_instructions.append(\n",
    "    {\"type\": \"filters.reprojection\", \"out_srs\": f\"EPSG:{horizontal_crs}+{vertical_crs}\"})"
   ]
  },
  {
   "cell_type": "markdown",
   "id": "44fabeb4-7dc8-4057-aa29-82815fb7d3c3",
   "metadata": {},
   "source": [
    "## Pipeline instruction: Filter within the ROI"
   ]
  },
  {
   "cell_type": "code",
   "execution_count": null,
   "id": "ed0e7d31-e35f-4d30-93cc-3b7ff8f11b41",
   "metadata": {},
   "outputs": [],
   "source": [
    "pdal_pipeline_instructions.append(\n",
    "    {\"type\": \"filters.crop\", \"polygon\": str(boundary.loc[0].geometry)})"
   ]
  },
  {
   "cell_type": "markdown",
   "id": "e9258f0e-3278-4604-aded-317d9062e510",
   "metadata": {},
   "source": [
    "### Pipeline instruction: Produce a DEM"
   ]
  },
  {
   "cell_type": "code",
   "execution_count": null,
   "id": "4e3a0269-30ff-44d0-8060-97b764aa0130",
   "metadata": {},
   "outputs": [],
   "source": [
    "dem_file = local_file_path / \"dem.tif\"\n",
    "pdal_pipeline_instructions.append(\n",
    "    {\"type\": \"writers.gdal\", \"resolution\": 10, \"radius\": 14.14, \"filename\": str(dem_file)})"
   ]
  },
  {
   "cell_type": "markdown",
   "id": "8aac56fd-3112-4f2c-86a2-ba3e62ad9ac7",
   "metadata": {},
   "source": [
    "## Execute pipeline"
   ]
  },
  {
   "cell_type": "code",
   "execution_count": null,
   "id": "133b8f82-3b4d-4ad6-b940-de28d64383fa",
   "metadata": {},
   "outputs": [],
   "source": [
    "pdal_pipeline_instructions"
   ]
  },
  {
   "cell_type": "code",
   "execution_count": null,
   "id": "344c77a9-be8d-46d7-ba15-65b09a81fb87",
   "metadata": {},
   "outputs": [],
   "source": [
    "pdal_pipeline = pdal.Pipeline(json.dumps(pdal_pipeline_instructions))\n",
    "pdal_pipeline.execute()"
   ]
  },
  {
   "cell_type": "markdown",
   "id": "acfd048d-ecb5-40ee-b053-c4dccbbb5126",
   "metadata": {},
   "source": [
    "## Load in the results\n",
    "Look at the contents of the pipeline output"
   ]
  },
  {
   "cell_type": "code",
   "execution_count": null,
   "id": "829118db-d2b1-4ddd-8566-fdf60ad187e2",
   "metadata": {},
   "outputs": [],
   "source": [
    "#pdal_pipeline.arrays\n",
    "#pdal_pipeline.metadata"
   ]
  },
  {
   "cell_type": "markdown",
   "id": "457c11b8-71e5-4993-9e48-1f4e81aa7fb6",
   "metadata": {},
   "source": [
    "Look at the DEM"
   ]
  },
  {
   "cell_type": "code",
   "execution_count": null,
   "id": "3736f21c-3ad5-4a57-98df-83d4cad9fcbe",
   "metadata": {},
   "outputs": [],
   "source": [
    "with rioxarray.rioxarray.open_rasterio(dem_file, masked=True) as dem:\n",
    "    dem.load()"
   ]
  },
  {
   "cell_type": "code",
   "execution_count": null,
   "id": "a2bed8c2-7326-4459-8cf1-0bbe8c6a974f",
   "metadata": {},
   "outputs": [],
   "source": [
    "#dem"
   ]
  },
  {
   "cell_type": "code",
   "execution_count": null,
   "id": "8cc5e00d-0d09-4db0-a467-6b8a410f7c4c",
   "metadata": {},
   "outputs": [],
   "source": [
    "layer_index = 1\n",
    "dem_layer = dem.sel(band=layer_index)\n",
    "dem_layer.attrs['long_name'] = dem_layer.attrs['long_name'][layer_index]\n",
    "dem_layer.attrs['units'] = dem_layer.attrs['units'][layer_index]"
   ]
  },
  {
   "cell_type": "code",
   "execution_count": null,
   "id": "884d936c-9d47-45b1-b5a4-9a9170cc4914",
   "metadata": {},
   "outputs": [],
   "source": [
    "f, ax = matplotlib.pyplot.subplots(figsize=(10, 10))\n",
    "dem_layer.plot(ax=ax)"
   ]
  },
  {
   "cell_type": "code",
   "execution_count": null,
   "id": "9febdda1-140f-4c2b-bbe2-d0866a18c7ff",
   "metadata": {},
   "outputs": [],
   "source": []
  }
 ],
 "metadata": {
  "kernelspec": {
   "display_name": "Python 3 (ipykernel)",
   "language": "python",
   "name": "python3"
  },
  "language_info": {
   "codemirror_mode": {
    "name": "ipython",
    "version": 3
   },
   "file_extension": ".py",
   "mimetype": "text/x-python",
   "name": "python",
   "nbconvert_exporter": "python",
   "pygments_lexer": "ipython3",
   "version": "3.10.4"
  }
 },
 "nbformat": 4,
 "nbformat_minor": 5
}
